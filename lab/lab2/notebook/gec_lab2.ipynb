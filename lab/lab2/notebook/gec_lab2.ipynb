{
 "cells": [
  {
   "cell_type": "code",
   "execution_count": 1,
   "metadata": {},
   "outputs": [
    {
     "data": {
      "text/html": [
       "<style>\n",
       "blockquote { background: #AEDE94; }\n",
       "h1 { \n",
       "    padding-top: 25px;\n",
       "    padding-bottom: 25px;\n",
       "    text-align: left; \n",
       "    padding-left: 10px;\n",
       "    background-color: #DDDDDD; \n",
       "    color: black;\n",
       "}\n",
       "h2 { \n",
       "    padding-top: 10px;\n",
       "    padding-bottom: 10px;\n",
       "    text-align: left; \n",
       "    padding-left: 5px;\n",
       "    background-color: #EEEEEE; \n",
       "    color: black;\n",
       "}\n",
       "\n",
       "div.exercise {\n",
       "\tbackground-color: #ffcccc;\n",
       "\tborder-color: #E9967A; \t\n",
       "\tborder-left: 5px solid #800080; \n",
       "\tpadding: 0.5em;\n",
       "}\n",
       "\n",
       "span.sub-q {\n",
       "\tfont-weight: bold;\n",
       "}\n",
       "div.theme {\n",
       "\tbackground-color: #DDDDDD;\n",
       "\tborder-color: #E9967A; \t\n",
       "\tborder-left: 5px solid #800080; \n",
       "\tpadding: 0.5em;\n",
       "\tfont-size: 18pt;\n",
       "}\n",
       "div.gc { \n",
       "\tbackground-color: #AEDE94;\n",
       "\tborder-color: #E9967A; \t \n",
       "\tborder-left: 5px solid #800080; \n",
       "\tpadding: 0.5em;\n",
       "\tfont-size: 12pt;\n",
       "}\n",
       "p.q1 { \n",
       "    padding-top: 5px;\n",
       "    padding-bottom: 5px;\n",
       "    text-align: left; \n",
       "    padding-left: 5px;\n",
       "    background-color: #EEEEEE; \n",
       "    color: black;\n",
       "}\n",
       "header {\n",
       "   padding-top: 35px;\n",
       "    padding-bottom: 35px;\n",
       "    text-align: left; \n",
       "    padding-left: 10px;\n",
       "    background-color: #DDDDDD; \n",
       "    color: black;\n",
       "}\n",
       "</style>\n",
       "\n"
      ],
      "text/plain": [
       "<IPython.core.display.HTML object>"
      ]
     },
     "execution_count": 1,
     "metadata": {},
     "output_type": "execute_result"
    }
   ],
   "source": [
    "## RUN THIS CELL TO PROPERLY HIGHLIGHT THE EXERCISES\n",
    "import requests\n",
    "from IPython.core.display import HTML\n",
    "styles = requests.get(\"https://raw.githubusercontent.com/Harvard-IACS/2018-CS109A/master/content/styles/cs109.css\").text\n",
    "HTML(styles)"
   ]
  },
  {
   "cell_type": "markdown",
   "metadata": {
    "slideshow": {
     "slide_type": "slide"
    }
   },
   "source": [
    "# Introduction to Neural Networks\n",
    "\n",
    "\n",
    "## Lab 2: ANNs /w Keras Part 2\n",
    "\n",
    "**June 2020**<br>\n",
    "**Instructor:** Pavlos Protopapas<br>\n",
    "**Lab Instructors:** Chris Gumb<br>\n",
    "**Contributors:** Eleni Kaxiras\n",
    "\n",
    "---"
   ]
  },
  {
   "cell_type": "code",
   "execution_count": null,
   "metadata": {},
   "outputs": [],
   "source": [
    "import numpy as np\n",
    "import matplotlib.pyplot as plt\n",
    "import matplotlib.image as mpimg\n",
    "import numpy as np\n",
    "import pandas as pd\n",
    "%matplotlib inline\n",
    "\n",
    "from PIL import Image, ImageOps"
   ]
  },
  {
   "cell_type": "code",
   "execution_count": null,
   "metadata": {},
   "outputs": [],
   "source": [
    "from __future__ import absolute_import, division, print_function, unicode_literals\n",
    "\n",
    "# TensorFlow and tf.keras\n",
    "import tensorflow as tf\n",
    "\n",
    "tf.keras.backend.clear_session()  # For easy reset of notebook state.\n",
    "\n",
    "print(tf.__version__)  # You should see a 2.0.0 here!"
   ]
  },
  {
   "cell_type": "markdown",
   "metadata": {},
   "source": [
    "## Learning Goals\n",
    "In this lab we will continue with the basics of feedforward neural networks using `tf.keras`, a deep learning library inside the broader framework called [Tensorflow](https://www.tensorflow.org). By the end of this lab, you should:\n",
    "\n",
    "- Strengthen your understanding of how a simple neural network works and code some of its functionality using `tf.keras`.\n",
    "- Think of vectors and arrays as tensors. Learn how to do basic image manipulations.\n",
    "- Implement a simple real world example using a feed forward neural network on image data. "
   ]
  },
  {
   "cell_type": "markdown",
   "metadata": {},
   "source": [
    "## Part 1: Data Preparation\n",
    "\n",
    "### Tensors\n",
    "\n",
    "We can think of tensors as multidimensional arrays of real numerical values; their job is to generalize matrices to multiple dimensions. \n",
    "\n",
    "- **scalar** = just a number = rank 0 tensor  ($a$ ∈ $F$,)\n",
    "<BR><BR>\n",
    "    \n",
    "- **vector** = 1D array = rank 1 tensor ( $x = (\\;x_1,...,x_i\\;)⊤$ ∈ $F^n$ )\n",
    "<BR><BR>\n",
    "    \n",
    "- **matrix** = 2D array = rank 2 tensor ( $\\textbf{X} = [a_{ij}] ∈ F^{m×n}$ )\n",
    "<BR><BR>\n",
    "    \n",
    "- **3D array** = rank 3 tensor ( $\\mathscr{X} =[t_{i,j,k}]∈F^{m×n×l}$ )\n",
    "<BR><BR>\n",
    "    \n",
    "- **$\\mathscr{N}$D array** = rank $\\mathscr{N}$ tensor ( $\\mathscr{T} =[t_{i1},...,t_{i\\mathscr{N}}]∈F^{n_1×...×n_\\mathscr{N}}$ ) <-- **Things start to get complicated here...**\n",
    "    \n",
    "#### Tensor indexing\n",
    "We can create subarrays by fixing some of the given tensor’s indices. We can create a vector by fixing all but one index. A 2D matrix is created when fixing all but two indices. For example, for a third order tensor the vectors are\n",
    "<br><BR>\n",
    "$\\mathscr{X}[:,j,k]$ = $\\mathscr{X}[j,k]$ (column), <br>\n",
    "$\\mathscr{X}[i,:,k]$ = $\\mathscr{X}[i,k]$ (row), and <BR>\n",
    "$\\mathscr{X}[i,j,:]$ = $\\mathscr{X}[i,j]$ (tube) <BR>\n",
    " \n",
    "#### Tensor multiplication\n",
    "We can multiply one matrix with another as long as the sizes are compatible ((n × m) × (m × p) = n × p), and also multiply an entire matrix by a constant. Numpy `numpy.dot` performs a matrix multiplication which is straightforward when we have 2D or 1D arrays. But what about > 3D arrays? The function will choose according to the matching dimentions but if we want to choose we should use `tensordot`, but, again, we **do not need tensordot** for this class. "
   ]
  },
  {
   "cell_type": "markdown",
   "metadata": {},
   "source": [
    "### Pavlos as a Rank 3 Tensor\n",
    "\n",
    "A common kind of data input to a neural network is images. Images are nice to look at, but remember, the computer only sees a series of numbers arranged in `tensors`. In this part we will look at how images are displayed and altered in Python. \n",
    "\n",
    "`matplotlib` supports only .png images but uses a library called `Pillow` to handle any image. If you do not have `Pillow` installed you can do this in anaconda:\n",
    "```\n",
    "conda install -c anaconda pillow \n",
    "\n",
    "OR \n",
    "\n",
    "pip install pillow\n",
    "```\n",
    "\n",
    "Images are 24-bit RGB images (height, width, channels) with 8 bits for each of R, G, B channel. Explore and print the array."
   ]
  },
  {
   "cell_type": "code",
   "execution_count": null,
   "metadata": {},
   "outputs": [],
   "source": [
    "import matplotlib.image as mpimg\n",
    "\n",
    "# load and show the image\n",
    "FILE = '../data/pavlos.jpeg'\n",
    "img = mpimg.imread(FILE);\n",
    "imgplot = plt.imshow(img);\n",
    "\n",
    "print(f'The image is a: {type(img)} of shape {img.shape}')\n",
    "img[3:5, 3:5, :];"
   ]
  },
  {
   "cell_type": "markdown",
   "metadata": {},
   "source": [
    "#### Slicing tensors: slice along each axis"
   ]
  },
  {
   "cell_type": "code",
   "execution_count": null,
   "metadata": {},
   "outputs": [],
   "source": [
    "# we want to show each color channel\n",
    "fig, axes = plt.subplots(1, 3, figsize=(10,10))\n",
    "for i, subplot in zip(range(3), axes):\n",
    "    temp = np.zeros(img.shape, dtype='uint8')\n",
    "    temp[:,:,i] = img[:,:,i]\n",
    "    subplot.imshow(temp)\n",
    "    subplot.set_axis_off()\n",
    "plt.show()"
   ]
  },
  {
   "cell_type": "markdown",
   "metadata": {},
   "source": [
    "#### Multiplying Images with a scalar\n",
    "\n",
    "Just for fun, no real use for this lab!"
   ]
  },
  {
   "cell_type": "code",
   "execution_count": null,
   "metadata": {},
   "outputs": [],
   "source": [
    "temp = img\n",
    "temp = temp * 2\n",
    "plt.imshow(temp);"
   ]
  },
  {
   "cell_type": "markdown",
   "metadata": {},
   "source": [
    "For more on image manipulation by `matplotlib` see: [matplotlib-images](https://matplotlib.org/3.1.1/tutorials/introductory/images.html)"
   ]
  },
  {
   "cell_type": "markdown",
   "metadata": {},
   "source": [
    "## Part 2: Building an Artificial Neural Network\n",
    "\n",
    "https://www.tensorflow.org/guide/keras\n",
    "\n",
    "`tf.keras` is TensorFlow's high-level API for building and training deep learning models. It's used for fast prototyping, state-of-the-art research, and production. `Keras` is a library created by François Chollet. After Google released Tensorflow 2.0, the creators of `keras` recommend that \"Keras users who use multi-backend Keras with the TensorFlow backend switch to `tf.keras` in TensorFlow 2.0. `tf.keras` is better maintained and has better integration with TensorFlow features\".\n",
    "\n",
    "NOTE:  In `Keras` everything starts with a Tensor of N samples as input and ends with a Tensor of N samples as output."
   ]
  },
  {
   "cell_type": "markdown",
   "metadata": {},
   "source": [
    "### First you build it ...\n",
    "\n",
    "Parts of a NN:\n",
    "\n",
    "* Part 1: the input layer (our dataset)\n",
    "\n",
    "* Part 2: the internal architecture or hidden layers (the number of layers, the activation functions, the learnable parameters and other hyperparameters)\n",
    "* Part 3: the output layer (what we want from the network - classification or regression)\n",
    "\n",
    "### ... and then you train it!\n",
    "\n",
    "1. Load and pre-process the data\n",
    "2. Define the layers of the model.\n",
    "3. Compile the model.\n",
    "4. Fit the model to the train set (also using a validation set).\n",
    "5. Evaluate the model on the test set.\n",
    "6. We learn a lot by studying History! Plot metrics such as accuracy.\n",
    "7. Now let's use the Network for what it was meant to do: Predict on the test set!\n",
    "8. Evaluate predictions"
   ]
  },
  {
   "cell_type": "code",
   "execution_count": null,
   "metadata": {},
   "outputs": [],
   "source": [
    "# set the seed for reproducability of results\n",
    "seed = 7\n",
    "np.random.seed(seed)"
   ]
  },
  {
   "cell_type": "markdown",
   "metadata": {},
   "source": [
    "### Fashion MNIST \n",
    "\n",
    "**Fashion-MNIST** is a dataset of clothing article images (created by [Zalando](https://github.com/zalandoresearch/fashion-mnist)), consisting of a training set of 60,000 examples and a test set of 10,000 examples. Each example is a **28 x 28** grayscale image, associated with a label from **10 classes**. The creators intend Fashion-MNIST to serve as a direct drop-in replacement for the original MNIST dataset for benchmarking machine learning algorithms. It shares the same image size and structure of training and testing splits. Each pixel is 8 bits so its value ranges from 0 to 255.\n",
    "\n",
    "Let's load and look at it!"
   ]
  },
  {
   "cell_type": "markdown",
   "metadata": {},
   "source": [
    "<div class='exercise'> <b>Exercise 1: Load and pre-process the data</div>\n",
    "    \n",
    "1. After loading the data, normalize the images so each pixel takes on a value between 0 and 1.\n",
    "2. Use the provided code to display a sample of the data. Then write your own code to display a single image of yoru choice."
   ]
  },
  {
   "cell_type": "code",
   "execution_count": null,
   "metadata": {},
   "outputs": [],
   "source": [
    "# get the data from keras - how convenient!\n",
    "fashion_mnist = tf.keras.datasets.fashion_mnist\n",
    "\n",
    "# load the data splitted in train and test! how nice!\n",
    "(x_train, y_train),(x_test, y_test) = fashion_mnist.load_data()\n"
   ]
  },
  {
   "cell_type": "code",
   "execution_count": null,
   "metadata": {},
   "outputs": [],
   "source": [
    "# hint: each pixel is 8 bits so its value ranges from 0 to 255\n",
    "## your code here\n"
   ]
  },
  {
   "cell_type": "code",
   "execution_count": null,
   "metadata": {},
   "outputs": [],
   "source": [
    "# classes are named 0-9 so define names for plotting clarity\n",
    "class_names = ['T-shirt/top', 'Trouser', 'Pullover', 'Dress', 'Coat',\n",
    "               'Sandal', 'Shirt', 'Sneaker', 'Bag', 'Ankle boot']\n",
    "\n",
    "plt.figure(figsize=(10,10))\n",
    "for i in range(25):\n",
    "    plt.subplot(5,5,i+1)\n",
    "    plt.xticks([])\n",
    "    plt.yticks([])\n",
    "    plt.grid(False)\n",
    "    plt.imshow(x_train[i], cmap=plt.cm.binary)\n",
    "    plt.xlabel(class_names[y_train[i]])\n",
    "plt.show()"
   ]
  },
  {
   "cell_type": "code",
   "execution_count": null,
   "metadata": {},
   "outputs": [],
   "source": [
    "# choose one image to look at\n",
    "# your code here\n"
   ]
  },
  {
   "cell_type": "code",
   "execution_count": null,
   "metadata": {},
   "outputs": [],
   "source": [
    "# take a look at the array shapes\n",
    "x_train.shape, x_test.shape, y_train.shape"
   ]
  },
  {
   "cell_type": "markdown",
   "metadata": {},
   "source": [
    "<div class='exercise'> <b>Exercise 2: Define the layers of the model</div>\n",
    "The input images are 2D arrays. How can we feed these into a Keras dense layer? We will need to start our model with a special layer to first transform the input into a flat, 1D vector. Try using autocomplete (`Tab`) to search for layers in `tf.keras.layers` for a potential candidate layer. When you find one, use the `Shift+Tab` trick to see what arguments it takes.\n",
    "    \n",
    "After that you should be able to construct your model. You can use as many layers/nodes as you like for the hidden layers, just start conservatively. Also consider:\n",
    "* What is the (initial) input shape?\n",
    "* What is the desired output shape?\n",
    "* What sort of activation functions to I need on each layer?"
   ]
  },
  {
   "cell_type": "code",
   "execution_count": null,
   "metadata": {},
   "outputs": [],
   "source": [
    "# your code here\n"
   ]
  },
  {
   "cell_type": "markdown",
   "metadata": {},
   "source": [
    "<div class='exercise'> <b>Exercise 3: Compile the model</div>\n",
    "Use autocomplete on `tf.keras.losses` to find a candidate loss function. \n",
    "    \n",
    "You can then use the `Shift+Tab` trick to read more about it. If there is also an additional metric to track during training you should set the `metrics` parameter when you call `compile` \n",
    "    \n",
    "(hint: this parameter is a list and the elements of the list can be strings if they are the names of metrics recognized by keras)"
   ]
  },
  {
   "cell_type": "code",
   "execution_count": null,
   "metadata": {},
   "outputs": [],
   "source": [
    "# your code here\n"
   ]
  },
  {
   "cell_type": "code",
   "execution_count": null,
   "metadata": {},
   "outputs": [],
   "source": [
    "# print a summary of your model\n",
    "model.summary()"
   ]
  },
  {
   "cell_type": "code",
   "execution_count": null,
   "metadata": {},
   "outputs": [],
   "source": [
    "# use this cool `tf.keras` method to visualize the layers of your network\n",
    "tf.keras.utils.plot_model(\n",
    "    model,\n",
    "    #to_file='model.png', # if you want to save the image\n",
    "    show_shapes=True, # True for more details than you need\n",
    "    show_layer_names=True,\n",
    "    rankdir='TB',\n",
    "    expand_nested=False,\n",
    "    dpi=96\n",
    ")"
   ]
  },
  {
   "cell_type": "markdown",
   "metadata": {},
   "source": [
    "[Everything you wanted to know about a Keras Model and were afraid to ask](https://www.tensorflow.org/api_docs/python/tf/keras/Model)"
   ]
  },
  {
   "cell_type": "markdown",
   "metadata": {},
   "source": [
    "<div class='exercise'> <b>Exercise 4: Fit the model to the train set (also using a validation set) </div>\n",
    "This is the part that takes the longest in terms of time and where having GPUs helps. Save the return value of the call to `fit` in a variable `history` so we can inspect the training history later.\n",
    "    \n",
    "You may want to start by just doing a few epochs."
   ]
  },
  {
   "cell_type": "code",
   "execution_count": null,
   "metadata": {
    "scrolled": true
   },
   "outputs": [],
   "source": [
    "# the core of the network training\n",
    "# your code here\n"
   ]
  },
  {
   "cell_type": "markdown",
   "metadata": {},
   "source": [
    "<div class='exercise'> <b>Exercise 5: Save and restore the model </div>\n",
    "\n",
    "You can save the model so you do not have `.fit` everytime you reset the kernel in the notebook. Network training is expensive!\n",
    "    \n",
    "Use the model's `save` method to store the model to disk. The commented code can be used to restore it later without having to fit it all again!\n",
    "\n",
    "For more details on this see [https://www.tensorflow.org/guide/keras/save_and_serialize](https://www.tensorflow.org/guide/keras/save_and_serialize)"
   ]
  },
  {
   "cell_type": "code",
   "execution_count": null,
   "metadata": {},
   "outputs": [],
   "source": [
    "# save the model so you do not have to run the code everytime\n",
    "# your code here\n",
    "\n",
    "\n",
    "# Recreate the exact same model purely from the file\n",
    "#model = tf.keras.models.load_model('../data/fashion_model.h5')"
   ]
  },
  {
   "cell_type": "markdown",
   "metadata": {},
   "source": [
    "<div class='exercise'> <b>Exercise 6: Evaluate the model on the test set </div>\n",
    "Use autocomplete to find the appropriate model method. Use `Shift+Tab` to see what it returns. Then store the test accuracy in `test_accuracy`."
   ]
  },
  {
   "cell_type": "code",
   "execution_count": null,
   "metadata": {},
   "outputs": [],
   "source": [
    "# your code here\n"
   ]
  },
  {
   "cell_type": "code",
   "execution_count": null,
   "metadata": {},
   "outputs": [],
   "source": [
    "print(f'Test accuracy={test_accuracy:.4f}')\n",
    "if test_accuracy>0.8: print(f'Not bad!')"
   ]
  },
  {
   "cell_type": "markdown",
   "metadata": {},
   "source": [
    "<div class='exercise'> <b>Exercise 7: Inspect the history </div>\n",
    "We learn a lot by studying History! Plot metrics such as accuracy. \n",
    "\n",
    "You can learn a lot about neural networks by observing how they perform while training. You can issue `callbacks` in `keras`. The networks's performance is stored in a `keras` callback aptly named `history` which can be plotted.\n",
    "    \n",
    "Plot accuracy and loss for the train & test sets. You may find it best to have multiple axes and multiple lines on each axis."
   ]
  },
  {
   "cell_type": "code",
   "execution_count": null,
   "metadata": {},
   "outputs": [],
   "source": [
    "print(history.history.keys())"
   ]
  },
  {
   "cell_type": "code",
   "execution_count": null,
   "metadata": {},
   "outputs": [],
   "source": [
    "# plot accuracy and loss for the train & test sets\n",
    "# your code here\n"
   ]
  },
  {
   "cell_type": "markdown",
   "metadata": {},
   "source": [
    "We notice that the model starts to overfil after ~10 epochs."
   ]
  },
  {
   "cell_type": "markdown",
   "metadata": {},
   "source": [
    "<div class='exercise'> <b>Exercise 8: Make predictions</div>\n",
    "Now let's use the Network for what it was meant to do: \n",
    "\n",
    "1. Predict on the test set and save in the variable `predictions` (hint: explore the model's methods with autocomplete)\n",
    "2. Print the class probabilities for the first observation in the test data\n",
    "3. Print the class the model predicts this observation to be (remember our `class_names` variable from earlier)"
   ]
  },
  {
   "cell_type": "code",
   "execution_count": null,
   "metadata": {},
   "outputs": [],
   "source": [
    "# your code here\n"
   ]
  },
  {
   "cell_type": "markdown",
   "metadata": {},
   "source": [
    "Let's see if our network predicted right! Does this item really look like what was predicted?"
   ]
  },
  {
   "cell_type": "code",
   "execution_count": null,
   "metadata": {},
   "outputs": [],
   "source": [
    "plt.figure()\n",
    "plt.imshow(x_test[0], cmap=plt.cm.binary)\n",
    "plt.xlabel(class_names[y_test[0]])\n",
    "plt.colorbar();"
   ]
  },
  {
   "cell_type": "markdown",
   "metadata": {},
   "source": [
    "Now let's see how confident our model is by plotting the probability values:"
   ]
  },
  {
   "cell_type": "code",
   "execution_count": null,
   "metadata": {},
   "outputs": [],
   "source": [
    "# code source: https://www.tensorflow.org/tutorials/keras/classification\n",
    "def plot_image(i, predictions_array, true_label, img):\n",
    "    predictions_array, true_label, img = predictions_array, true_label[i], img[i]\n",
    "    plt.grid(False)\n",
    "    plt.xticks([])\n",
    "    plt.yticks([])\n",
    "\n",
    "    plt.imshow(img, cmap=plt.cm.binary)\n",
    "\n",
    "    predicted_label = np.argmax(predictions_array)\n",
    "    if predicted_label == true_label:\n",
    "        color = 'blue'\n",
    "    else:\n",
    "        color = 'red'\n",
    "\n",
    "    plt.xlabel(\"{} {:2.0f}% ({})\".format(class_names[predicted_label],\n",
    "                                100*np.max(predictions_array),\n",
    "                                class_names[true_label]),\n",
    "                                color=color)\n",
    "\n",
    "def plot_value_array(i, predictions_array, true_label):\n",
    "    predictions_array, true_label = predictions_array, true_label[i]\n",
    "    plt.grid(False)\n",
    "    plt.xticks(range(10))\n",
    "    plt.yticks([])\n",
    "    thisplot = plt.bar(range(10), predictions_array, color=\"#777777\")\n",
    "    plt.ylim([0, 1])\n",
    "    predicted_label = np.argmax(predictions_array)\n",
    "\n",
    "    thisplot[predicted_label].set_color('red')\n",
    "    thisplot[true_label].set_color('blue')"
   ]
  },
  {
   "cell_type": "code",
   "execution_count": null,
   "metadata": {},
   "outputs": [],
   "source": [
    "def plot_pred(i):\n",
    "    plt.figure(figsize=(6,3))\n",
    "    plt.subplot(1,2,1)\n",
    "    plot_image(i, predictions[i], y_test, x_test)\n",
    "    plt.subplot(1,2,2)\n",
    "    plot_value_array(i, predictions[i],  y_test)\n",
    "    plt.xticks(np.arange(len(class_names)),class_names, rotation=75)\n",
    "    plt.show()"
   ]
  },
  {
   "cell_type": "code",
   "execution_count": null,
   "metadata": {},
   "outputs": [],
   "source": [
    "plot_pred(0)"
   ]
  },
  {
   "cell_type": "markdown",
   "metadata": {},
   "source": [
    "The model is very confident! It predicts and ankle boot with 100% probability. \n",
    "Try a few other observations."
   ]
  },
  {
   "cell_type": "code",
   "execution_count": null,
   "metadata": {},
   "outputs": [],
   "source": [
    "# your code here\n"
   ]
  }
 ],
 "metadata": {
  "kernelspec": {
   "display_name": "Python 3",
   "language": "python",
   "name": "python3"
  },
  "language_info": {
   "codemirror_mode": {
    "name": "ipython",
    "version": 3
   },
   "file_extension": ".py",
   "mimetype": "text/x-python",
   "name": "python",
   "nbconvert_exporter": "python",
   "pygments_lexer": "ipython3",
   "version": "3.8.3"
  }
 },
 "nbformat": 4,
 "nbformat_minor": 4
}
